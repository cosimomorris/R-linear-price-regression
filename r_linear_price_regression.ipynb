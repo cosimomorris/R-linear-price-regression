{
 "cells": [
  {
   "cell_type": "markdown",
   "id": "e152848e-3438-4aa1-92d8-852216357ef1",
   "metadata": {},
   "source": [
    "Price Prediction With Regression Analysis in R"
   ]
  },
  {
   "cell_type": "code",
   "execution_count": 4,
   "id": "0fff3d07-4285-4976-96ff-168123955c0e",
   "metadata": {},
   "outputs": [
    {
     "name": "stdout",
     "output_type": "stream",
     "text": [
      "\n",
      "The downloaded binary packages are in\n",
      "\t/var/folders/11/mktbwy31519g01sbl5b6y3_c0000gn/T//RtmpeZeGIR/downloaded_packages\n",
      "\n",
      "The downloaded binary packages are in\n",
      "\t/var/folders/11/mktbwy31519g01sbl5b6y3_c0000gn/T//RtmpeZeGIR/downloaded_packages\n"
     ]
    }
   ],
   "source": [
    "install.packages(\"corrplot\")\n",
    "install.packages(\"glmnet\")\n"
   ]
  },
  {
   "cell_type": "code",
   "execution_count": 5,
   "id": "446a1337-1bc2-4d2e-8f19-64dd9be97a46",
   "metadata": {},
   "outputs": [
    {
     "name": "stderr",
     "output_type": "stream",
     "text": [
      "corrplot 0.92 loaded\n",
      "\n",
      "Loading required package: Matrix\n",
      "\n",
      "Loaded glmnet 4.1-8\n",
      "\n"
     ]
    }
   ],
   "source": [
    "library(corrplot)\n",
    "library(glmnet)"
   ]
  },
  {
   "cell_type": "markdown",
   "id": "3d090182-e993-4f59-bd4f-0d673e449964",
   "metadata": {},
   "source": [
    "Task 2: Load the Dataset"
   ]
  },
  {
   "cell_type": "code",
   "execution_count": null,
   "id": "5760eef2-2d2a-412f-8426-cddf221858f8",
   "metadata": {},
   "outputs": [],
   "source": [
    "#Load the dataset as a data frame\n",
    "dataset <- read.csv(\"scrap_price.csv\")\n",
    "#View the data frame\n",
    "print(dataset)"
   ]
  },
  {
   "cell_type": "markdown",
   "id": "cb2bd9e5-3ea8-4dd2-8bda-b60ce8b825c9",
   "metadata": {},
   "source": [
    "Task 3: Explore the Dataset"
   ]
  },
  {
   "cell_type": "code",
   "execution_count": null,
   "id": "3f4072e8-348e-432e-b7de-1a49ec832c53",
   "metadata": {},
   "outputs": [],
   "source": [
    "#Find the dimension of the data frame\n",
    "dim(dataset)\n",
    "#Displays internal structure of data frame\n",
    "str(dataset)"
   ]
  },
  {
   "cell_type": "code",
   "execution_count": null,
   "id": "318badf1-6920-48bd-8093-795f44b980e0",
   "metadata": {},
   "outputs": [],
   "source": [
    "#Get a list of unique elements in each column\n",
    "ulist <- lapply(dataset, unique)\n",
    "ulen <- lengths(ulist)\n",
    "#Print the number of unique values in each column\n",
    "print(ulen)"
   ]
  },
  {
   "cell_type": "markdown",
   "id": "f75a8040-8e95-40d0-8f1d-26be8defe072",
   "metadata": {},
   "source": [
    "Task 4: Preprocess the Dataset"
   ]
  },
  {
   "cell_type": "code",
   "execution_count": null,
   "id": "7214491c-52dd-4f8f-ac39-1312df15a0b5",
   "metadata": {},
   "outputs": [],
   "source": [
    "#Drop the column from the data frame\n",
    "newdata <- dataset[ -c(1,3) ]\n",
    "\n",
    "#print the head of the subset data frame\n",
    "print(head(newdata))"
   ]
  },
  {
   "cell_type": "code",
   "execution_count": null,
   "id": "c2358c89-98d9-48c1-81ce-eb799b0cd062",
   "metadata": {},
   "outputs": [],
   "source": [
    "#Convert categorical columns to numeric\n",
    "newdata[, c('fueltypes', 'aspiration', 'doornumbers', 'carbody', 'drivewheels', 'enginelocation', 'enginetype', 'cylindernumber', 'fuelsystem')] <- sapply(newdata[, c('fueltypes', 'aspiration', 'doornumbers', 'carbody', 'drivewheels', 'enginelocation', 'enginetype', 'cylindernumber', 'fuelsystem')], unclass)\n",
    "\n",
    "#Print the head of the preprocessed data frame\n",
    "print(head(newdata))"
   ]
  },
  {
   "cell_type": "code",
   "execution_count": null,
   "id": "8cb29c54-668f-4663-ad2f-e9e516088c46",
   "metadata": {},
   "outputs": [],
   "source": [
    "#Scale data\n",
    "newdata <- scale(newdata)\n",
    "\n",
    "#Convert to data frame\n",
    "dataframe=as.data.frame(newdata)\n",
    "\n",
    "#Display the initial rows of the data frame\n",
    "print(head(dataframe))"
   ]
  },
  {
   "cell_type": "markdown",
   "id": "c89bbe6f-8ed9-48f3-aa1f-6137ed99fc1d",
   "metadata": {},
   "source": [
    "Task 5: Find Outliers in the Dataset"
   ]
  },
  {
   "cell_type": "code",
   "execution_count": null,
   "id": "177fee9f-c430-4dde-8e60-08b20bb72dc7",
   "metadata": {},
   "outputs": [],
   "source": [
    "#Create a grid of boxplots\n",
    "par(mfrow=c(2,2))\n",
    "for (i in 1:length(dataframe)) {\n",
    "        boxplot(dataframe[,i], main=names(dataframe[i]), type=\"l\", outcol=\"blue\")\n",
    "}"
   ]
  },
  {
   "cell_type": "markdown",
   "id": "2ff5c707-cad1-40e3-be12-a07f54f36a3c",
   "metadata": {},
   "source": [
    "Task 6: Feature Correlation Visualisation"
   ]
  },
  {
   "cell_type": "code",
   "execution_count": null,
   "id": "733379f6-9bf8-4ef7-acbf-b095c0eafd13",
   "metadata": {},
   "outputs": [],
   "source": [
    "#Calculate correlation\n",
    "dataframe.cor = cor(dataframe)\n",
    "#Display the correlation plot\n",
    "corrplot(dataframe.cor)"
   ]
  },
  {
   "cell_type": "markdown",
   "id": "1d6ac167-ca09-46d0-be99-2995ab2c4cb0",
   "metadata": {},
   "source": [
    "Linear Regression"
   ]
  },
  {
   "cell_type": "markdown",
   "id": "2a55477e-66f7-432c-9b65-f34521f01411",
   "metadata": {},
   "source": [
    "Task 7: Split Test and Train Data"
   ]
  },
  {
   "cell_type": "code",
   "execution_count": null,
   "id": "fe44b38c-2555-4157-8e33-6650083fae07",
   "metadata": {},
   "outputs": [],
   "source": [
    "#Make the results reproducible\n",
    "set.seed(1)\n",
    "\n",
    "#Use 70% of the dataset as a training set and 30% as a test set\n",
    "sample <- sample(seq(1, 2), nrow(dataframe), replace=TRUE, prob=c(0.7,0.3))\n",
    "train_set  <- dataframe[sample==1, ]\n",
    "test   <- dataframe[sample==2, ]"
   ]
  },
  {
   "cell_type": "code",
   "execution_count": null,
   "id": "3f9e652e-7709-4ff1-9e04-c7cd08f2a84d",
   "metadata": {},
   "outputs": [],
   "source": [
    "#Store the target variable and other variables of the complete dataset separately\n",
    "x_vars_df <- dataframe[,-c(24)]\n",
    "y_var_df <- dataframe[, c(24)]\n",
    "\n",
    "#Store the target variable and other variables of the test data\n",
    "test_set_x <- test[,-c(24)]\n",
    "test_set_y <- test[,c(24)]"
   ]
  },
  {
   "cell_type": "code",
   "execution_count": null,
   "id": "85241abf-30d4-40d1-a348-890815952060",
   "metadata": {},
   "outputs": [],
   "source": [
    "print(nrow(train_set))\n",
    "print(nrow(test))"
   ]
  },
  {
   "cell_type": "markdown",
   "id": "e88c67d2-45f0-4917-9acc-fdfe8cae9f16",
   "metadata": {},
   "source": [
    "Task 8: Train the Model "
   ]
  },
  {
   "cell_type": "code",
   "execution_count": null,
   "id": "da932b29-fe05-4648-8564-d7e0e1d3e0f9",
   "metadata": {},
   "outputs": [],
   "source": [
    "# Create the regression model.\n",
    "fit_train = lm(price ~ symboling + fueltypes + aspiration + doornumbers + carbody + drivewheels + enginelocation + wheelbase + carlength + carwidth + carheight + curbweight + enginetype + cylindernumber + enginesize + fuelsystem + boreratio + stroke + compressionratio + horsepower + peakrpm + citympg + highwaympg, data = train_set)"
   ]
  },
  {
   "cell_type": "code",
   "execution_count": null,
   "id": "a6c9ebfe-7719-4ea2-b313-16f207782335",
   "metadata": {},
   "outputs": [],
   "source": [
    "print(summary(fit_train))"
   ]
  },
  {
   "cell_type": "markdown",
   "id": "6670b29a-d9a9-46f9-b6c9-da9f3e0b192b",
   "metadata": {},
   "source": [
    "Task 9: Test the Model"
   ]
  },
  {
   "cell_type": "code",
   "execution_count": null,
   "id": "7cba66c8-8915-409b-a75e-d703c988a806",
   "metadata": {},
   "outputs": [],
   "source": [
    "fit_test = predict(fit_train, newdata=test_set_x)"
   ]
  },
  {
   "cell_type": "code",
   "execution_count": null,
   "id": "8e64affb-5ede-4551-9434-4882c0667120",
   "metadata": {},
   "outputs": [],
   "source": [
    "#Create a grid for scatter plots\n",
    "par(mfrow=c(2,2))\n",
    "for (i in 1:length(test_set_x)) {\n",
    "     main_label=paste(\"Relation b/w\", names(test_set_x[i]),\"& Price\", sep = \" \", collapse = NULL)\n",
    "     plot(test_set_x[,i], fit_test , main=main_label, xlab=names(test_set_x[i]), ylab=\"Price \",pch=19)\n",
    "     lines(lowess(test_set_x[,i],fit_test), col=\"blue\")\n",
    "     lines(lowess(test_set_x[,i],test_set_y), col=\"red\")       \n",
    "}"
   ]
  },
  {
   "cell_type": "markdown",
   "id": "fe5013b2-7c76-44c3-9d22-859d4ba78626",
   "metadata": {},
   "source": [
    "Task 10: Evaluate the Model"
   ]
  },
  {
   "cell_type": "code",
   "execution_count": null,
   "id": "bb343b6e-b7a4-40db-be69-b0d95104c8db",
   "metadata": {},
   "outputs": [],
   "source": [
    "mse <- ( mean((fit_test- (test_set_y))^2) )\n",
    "print(mse)"
   ]
  },
  {
   "cell_type": "code",
   "execution_count": null,
   "id": "ec4a27a0-2dfd-4bbe-ad0e-64bc71fec6d6",
   "metadata": {},
   "outputs": [],
   "source": [
    "#find SST and SSE\n",
    "sst <- sum((test_set_y - mean(test_set_y))^2)\n",
    "sse <- sum((fit_test - test_set_y)^2)\n",
    "\n",
    "#find R-Squared of test Data\n",
    "rsq <- 1 - sse/sst\n",
    "print(rsq)"
   ]
  },
  {
   "cell_type": "markdown",
   "id": "12c73d50-93eb-44bf-90bb-b8d00734f600",
   "metadata": {},
   "source": [
    " Lasso Regression"
   ]
  },
  {
   "cell_type": "markdown",
   "id": "9af7eed3-82b0-48d9-a57b-e0641eb006ba",
   "metadata": {},
   "source": [
    "Task 11: Prepare the Data "
   ]
  },
  {
   "cell_type": "code",
   "execution_count": null,
   "id": "384f1ee5-681b-4d3f-bed6-a9772ef77190",
   "metadata": {},
   "outputs": [],
   "source": [
    "#Convert all data frames to matrixes\n",
    "x_vars <- as.matrix(x_vars_df)\n",
    "y_var <- as.matrix(y_var_df)\n",
    "x_test <- as.matrix(test_set_x)\n",
    "y_test <- as.vector(test_set_y)\n",
    "x_train <- as.matrix (train_set[, -c(24)])\n",
    "y_train <- as.vector(train_set[, c(24)])\n",
    "train <- as.matrix(train_set)"
   ]
  },
  {
   "cell_type": "code",
   "execution_count": null,
   "id": "1995ff4c-8030-49f7-bbf5-31c96941935e",
   "metadata": {},
   "outputs": [],
   "source": [
    "#Verify the split\n",
    "print(length(y_train))\n",
    "print(length(y_test))"
   ]
  },
  {
   "cell_type": "markdown",
   "id": "b8a0a9c1-cb55-49a1-8a38-a40bc07d4168",
   "metadata": {},
   "source": [
    "Task 12: Create and Run Lasso Regression Model"
   ]
  },
  {
   "cell_type": "code",
   "execution_count": null,
   "id": "f12e26d8-4a88-4bd7-8ba2-93376ba17692",
   "metadata": {},
   "outputs": [],
   "source": [
    "lambda_seq <- 10^seq(-2, 2, by = .1)\n",
    "\n",
    "#Train the model\n",
    "cv_output <- cv.glmnet(x_train, y_train, alpha = 1, lambda = lambda_seq, nfolds = 5)"
   ]
  },
  {
   "cell_type": "markdown",
   "id": "d2052e20-7fdc-490c-b8c3-85bbb2c83331",
   "metadata": {},
   "source": [
    "Task 13: Find the Best Lambda Value"
   ]
  },
  {
   "cell_type": "code",
   "execution_count": null,
   "id": "077a3903-b5c7-437a-844c-83ecbba29674",
   "metadata": {},
   "outputs": [],
   "source": [
    "plot(cv_output)"
   ]
  },
  {
   "cell_type": "code",
   "execution_count": null,
   "id": "714b405d-ed03-4d25-9475-53fc2c1ca1fb",
   "metadata": {},
   "outputs": [],
   "source": [
    "best_lam <- cv_output$lambda.min\n",
    "print(best_lam)"
   ]
  },
  {
   "cell_type": "markdown",
   "id": "6a530e45-e671-4f18-bc8a-83f985c7713d",
   "metadata": {},
   "source": [
    " Task 14: Build Lasso Model With the Best Lambda"
   ]
  },
  {
   "cell_type": "code",
   "execution_count": null,
   "id": "b3b8d047-1d62-435a-a811-a1bf16fe9798",
   "metadata": {},
   "outputs": [],
   "source": [
    "#Build a Model\n",
    "lasso_best <- glmnet(x_train, y_train, alpha = 1, lambda = best_lam)\n",
    "\n",
    "#Display the coefficients of all variables after training\n",
    "print(coef(lasso_best))\n",
    "\n",
    "#Display the list of variables with zero coefficients\n",
    "print(\"Following variables are declared irrelevant by the model:\")\n",
    "print(coef(lasso_best)[coef(lasso_best)[,1]==0,])"
   ]
  },
  {
   "cell_type": "markdown",
   "id": "f15e31ea-6956-49f3-b0e2-22b6ab835568",
   "metadata": {},
   "source": [
    "Task 15: Test the Model"
   ]
  },
  {
   "cell_type": "code",
   "execution_count": null,
   "id": "08c09f4d-f08c-4cd1-8294-1f48e561c0c1",
   "metadata": {},
   "outputs": [],
   "source": [
    "pred <- predict(lasso_best, s = best_lam, newx = x_test)"
   ]
  },
  {
   "cell_type": "code",
   "execution_count": null,
   "id": "fbd41595-d247-4184-b13c-df0c84fb95e2",
   "metadata": {},
   "outputs": [],
   "source": [
    "#Create a grid for scatter plots\n",
    "par(mfrow=c(2,2))\n",
    "for (i in 1:length(test_set_x)) {\n",
    "     main_label=paste(\"Relation b/w\", names(test_set_x[i]),\"& Price\", sep = \" \", collapse = NULL)\n",
    "     plot(test_set_x[,i], pred , main=main_label, xlab=names(test_set_x[i]), ylab=\"Price \",pch=19)\n",
    "     lines(lowess(test_set_x[,i],pred), col=\"blue\")\n",
    "     lines(lowess(test_set_x[,i],y_test), col=\"red\")       \n",
    "}"
   ]
  },
  {
   "cell_type": "markdown",
   "id": "c8157d8d-d6a6-4a72-9ae7-3833f7c435b2",
   "metadata": {},
   "source": [
    "Task 16: Evaluate the Model"
   ]
  },
  {
   "cell_type": "code",
   "execution_count": null,
   "id": "66cefd49-2c47-4e99-aa87-87b2309d3516",
   "metadata": {},
   "outputs": [],
   "source": [
    "#Calculate the MSE of the test data:\n",
    "mse <- (mean((pred - y_test)^2)) \n",
    "print(mse)"
   ]
  },
  {
   "cell_type": "code",
   "execution_count": null,
   "id": "f1861eb8-ee02-4765-a69f-e9e575881d1c",
   "metadata": {},
   "outputs": [],
   "source": [
    "#Find SST and SSE\n",
    "sst <- sum((y_test - mean(y_test))^2)\n",
    "sse <- sum((pred - y_test)^2)\n",
    "\n",
    "#Find R-Squared of test Data\n",
    "rsq <- 1 - sse/sst\n",
    "print(rsq)"
   ]
  }
 ],
 "metadata": {
  "kernelspec": {
   "display_name": "R",
   "language": "R",
   "name": "ir"
  },
  "language_info": {
   "codemirror_mode": "r",
   "file_extension": ".r",
   "mimetype": "text/x-r-source",
   "name": "R",
   "pygments_lexer": "r",
   "version": "4.3.1"
  }
 },
 "nbformat": 4,
 "nbformat_minor": 5
}
