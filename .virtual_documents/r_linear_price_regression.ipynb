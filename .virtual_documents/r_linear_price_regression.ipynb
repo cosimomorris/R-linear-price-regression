


install.packages("corrplot")
install.packages("glmnet")
install.packages("ggplot2")



library(ggplot2)
library(corrplot)
library(glmnet)






# Load the dataset as a data frame
dataset <- read.csv("bitcoin_price_data.csv")
# View the data frame
print(head(dataset))





#Find the dimension of the data frame
dim(dataset)
#Displays internal structure of data frame
str(dataset)


#Get a list of unique elements in each column
ulist <- lapply(dataset, unique)
ulen <- lengths(ulist)
#Print the number of unique values in each column
print(ulen)





# Print the head of the original data frame
print(head(dataset))



# Convert the timestamp column to a date-time object
dataset$timestamp <- as.POSIXct(dataset$timestamp)

# Plot the price data
ggplot(dataset, aes(x = timestamp, y = price)) +
  geom_line() +
  labs(title = "Bitcoin Price Time Series", x = "Timestamp", y = "Price (USD)")



# Scale data
scaled_data <- scale(dataset)

# Convert to data frame
scaled_dataset <- as.data.frame(scaled_data)

# Display the initial rows of the scaled data frame
print(head(scaled_dataset))






#Create a grid of boxplots
par(mfrow=c(2,2))
for (i in 1:length(dataframe)) {
        boxplot(dataframe[,i], main=names(dataframe[i]), type="l", outcol="blue")
}





#Calculate correlation
dataframe.cor = cor(dataframe)
#Display the correlation plot
corrplot(dataframe.cor)








#Make the results reproducible
set.seed(1)

#Use 70% of the dataset as a training set and 30% as a test set
sample <- sample(seq(1, 2), nrow(dataframe), replace=TRUE, prob=c(0.7,0.3))
train_set  <- dataframe[sample==1, ]
test   <- dataframe[sample==2, ]


# Identify the column number or name of the target variable 'price'
target_col_num <- which(colnames(dataset) == "price")

# Store the features and target variable of the complete dataset separately
x_vars_df <- dataset[,-c(target_col_num)]
y_var_df <- dataset[, c(target_col_num)]



print(nrow(train_set))
print(nrow(test))





print(names(train_set))


print(summary(fit_train))





fit_test = predict(fit_train, newdata=test_set_x)


#Create a grid for scatter plots
par(mfrow=c(2,2))
for (i in 1:length(test_set_x)) {
     main_label=paste("Relation b/w", names(test_set_x[i]),"& Price", sep = " ", collapse = NULL)
     plot(test_set_x[,i], fit_test , main=main_label, xlab=names(test_set_x[i]), ylab="Price ",pch=19)
     lines(lowess(test_set_x[,i],fit_test), col="blue")
     lines(lowess(test_set_x[,i],test_set_y), col="red")       
}





mse <- ( mean((fit_test- (test_set_y))^2) )
print(mse)


#find SST and SSE
sst <- sum((test_set_y - mean(test_set_y))^2)
sse <- sum((fit_test - test_set_y)^2)

#find R-Squared of test Data
rsq <- 1 - sse/sst
print(rsq)








#Convert all data frames to matrixes
x_vars <- as.matrix(x_vars_df)
y_var <- as.matrix(y_var_df)
x_test <- as.matrix(test_set_x)
y_test <- as.vector(test_set_y)
x_train <- as.matrix (train_set[, -c(24)])
y_train <- as.vector(train_set[, c(24)])
train <- as.matrix(train_set)


#Verify the split
print(length(y_train))
print(length(y_test))





lambda_seq <- 10^seq(-2, 2, by = .1)

#Train the model
cv_output <- cv.glmnet(x_train, y_train, alpha = 1, lambda = lambda_seq, nfolds = 5)





plot(cv_output)


best_lam <- cv_output$lambda.min
print(best_lam)





#Build a Model
lasso_best <- glmnet(x_train, y_train, alpha = 1, lambda = best_lam)

#Display the coefficients of all variables after training
print(coef(lasso_best))

#Display the list of variables with zero coefficients
print("Following variables are declared irrelevant by the model:")
print(coef(lasso_best)[coef(lasso_best)[,1]==0,])





pred <- predict(lasso_best, s = best_lam, newx = x_test)


#Create a grid for scatter plots
par(mfrow=c(2,2))
for (i in 1:length(test_set_x)) {
     main_label=paste("Relation b/w", names(test_set_x[i]),"& Price", sep = " ", collapse = NULL)
     plot(test_set_x[,i], pred , main=main_label, xlab=names(test_set_x[i]), ylab="Price ",pch=19)
     lines(lowess(test_set_x[,i],pred), col="blue")
     lines(lowess(test_set_x[,i],y_test), col="red")       
}





#Calculate the MSE of the test data:
mse <- (mean((pred - y_test)^2)) 
print(mse)


#Find SST and SSE
sst <- sum((y_test - mean(y_test))^2)
sse <- sum((pred - y_test)^2)

#Find R-Squared of test Data
rsq <- 1 - sse/sst
print(rsq)
